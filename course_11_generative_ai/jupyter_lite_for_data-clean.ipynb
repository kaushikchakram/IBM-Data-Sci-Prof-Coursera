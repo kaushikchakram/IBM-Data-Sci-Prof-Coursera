{
  "metadata": {
    "kernelspec": {
      "name": "python",
      "display_name": "Python (Pyodide)",
      "language": "python"
    },
    "language_info": {
      "codemirror_mode": {
        "name": "python",
        "version": 3
      },
      "file_extension": ".py",
      "mimetype": "text/x-python",
      "name": "python",
      "nbconvert_exporter": "python",
      "pygments_lexer": "ipython3",
      "version": "3.8"
    }
  },
  "nbformat_minor": 4,
  "nbformat": 4,
  "cells": [
    {
      "cell_type": "markdown",
      "source": "<p style=\"text-align:center\">\n    <a href=\"https://skills.network\" target=\"_blank\">\n    <img src=\"https://cf-courses-data.s3.us.cloud-object-storage.appdomain.cloud/assets/logos/SN_web_lightmode.png\" width=\"300\" alt=\"Skills Network Logo\">\n    </a>\n</p>\n",
      "metadata": {}
    },
    {
      "cell_type": "markdown",
      "source": "# Test Environment for Generative AI classroom labs\n\nThis lab provides a test environment for the codes generated using the Generative AI classroom.\n\nFollow the instructions below to set up this environment for further use.\n",
      "metadata": {}
    },
    {
      "cell_type": "markdown",
      "source": "# Setup\n",
      "metadata": {}
    },
    {
      "cell_type": "markdown",
      "source": "### Install required libraries\n\nIn case of a requirement of installing certain python libraries for use in your task, you may do so as shown below.\n",
      "metadata": {}
    },
    {
      "cell_type": "code",
      "source": "%pip install seaborn\nimport piplite\n\nawait piplite.install(['nbformat', 'plotly'])",
      "metadata": {
        "trusted": true
      },
      "outputs": [],
      "execution_count": 1
    },
    {
      "cell_type": "markdown",
      "source": "### Dataset URL from the GenAI lab\nUse the URL provided in the GenAI lab in the cell below. \n",
      "metadata": {}
    },
    {
      "cell_type": "code",
      "source": "URL = \"https://cf-courses-data.s3.us.cloud-object-storage.appdomain.cloud/IBMDeveloperSkillsNetwork-DA0101EN-Coursera/laptop_pricing_dataset_mod1.csv\"",
      "metadata": {
        "trusted": true
      },
      "outputs": [],
      "execution_count": 2
    },
    {
      "cell_type": "markdown",
      "source": "### Downloading the dataset\n\nExecute the following code to download the dataset in to the interface.\n\n> Please note that this step is essential in JupyterLite. If you are using a downloaded version of this notebook and running it on JupyterLabs, then you can skip this step and directly use the URL in pandas.read_csv() function to read the dataset as a dataframe\n",
      "metadata": {}
    },
    {
      "cell_type": "code",
      "source": "from pyodide.http import pyfetch\n\nasync def download(url, filename):\n    response = await pyfetch(url)\n    if response.status == 200:\n        with open(filename, \"wb\") as f:\n            f.write(await response.bytes())\n\npath = URL\n\nawait download(path, \"dataset.csv\")",
      "metadata": {
        "trusted": true
      },
      "outputs": [],
      "execution_count": 3
    },
    {
      "cell_type": "markdown",
      "source": "---\n",
      "metadata": {}
    },
    {
      "cell_type": "markdown",
      "source": "# Test Environment\n",
      "metadata": {}
    },
    {
      "cell_type": "code",
      "source": "# Keep appending the code generated to this cell, or add more cells below this to execute in parts\n\nimport pandas as pd\n\ndef read_csv_to_dataframe(file_path):\n    \"\"\"\n    Reads a CSV file located at the provided file path into a Pandas DataFrame.\n    \n    Args:\n    file_path (str): The path to the CSV file.\n    \n    Returns:\n    pandas.DataFrame: The data read from the CSV file.\n    \"\"\"\n    try:\n        # Reading the CSV file into DataFrame\n        df = pd.read_csv(file_path)\n        return df\n    except FileNotFoundError:\n        print(f\"The file at {file_path} was not found.\")\n    except Exception as e:\n        print(f\"An error occurred: {e}\")\n    \n    return None\n\n# Example usage:\n# Assuming `file_path` is already defined as the path to your CSV\nfile_path = \"./dataset.csv\"\ndf = read_csv_to_dataframe(file_path)\n\nif df is not None:\n    print(df.head())",
      "metadata": {
        "trusted": true
      },
      "outputs": [
        {
          "name": "stdout",
          "text": "   Unnamed: 0 Manufacturer  Category     Screen  GPU  OS  CPU_core  \\\n0           0         Acer         4  IPS Panel    2   1         5   \n1           1         Dell         3    Full HD    1   1         3   \n2           2         Dell         3    Full HD    1   1         7   \n3           3         Dell         4  IPS Panel    2   1         5   \n4           4           HP         4    Full HD    2   1         7   \n\n   Screen_Size_cm  CPU_frequency  RAM_GB  Storage_GB_SSD  Weight_kg  Price  \n0          35.560            1.6       8             256       1.60    978  \n1          39.624            2.0       4             256       2.20    634  \n2          39.624            2.7       8             256       2.20    946  \n3          33.782            1.6       8             128       1.22   1244  \n4          39.624            1.8       8             256       1.91    837  \n",
          "output_type": "stream"
        }
      ],
      "execution_count": 10
    },
    {
      "cell_type": "code",
      "source": "def identify_missing_values(df):\n    \"\"\"\n    Identifies columns in a DataFrame that contain missing values.\n    \n    Args:\n    df (pandas.DataFrame): The input DataFrame.\n    \n    Returns:\n    List[str]: A list of column names with missing values.\n    \"\"\"\n    # Check for NaN values in each column\n    missing_columns = df.columns[df.isnull().any()].tolist()\n    \n    return missing_columns\n\nmissing_cols = identify_missing_values(df)\nprint(\"Columns with missing values:\", missing_cols)",
      "metadata": {
        "trusted": true
      },
      "outputs": [
        {
          "name": "stdout",
          "text": "Columns with missing values: ['Screen_Size_cm', 'Weight_kg']\n",
          "output_type": "stream"
        }
      ],
      "execution_count": 11
    },
    {
      "cell_type": "code",
      "source": "def fill_missing_values(df):\n    \"\"\"\n    Replaces missing values in the DataFrame based on column type.\n    \n    For categorical columns (like \"Screen_Size_cm\"), missing values are replaced with the most frequent value.\n    For continuous columns (like \"Weight_kg\"), missing values are replaced with the mean value.\n    \n    Args:\n    df (pandas.DataFrame): The input DataFrame.\n    \n    Returns:\n    pandas.DataFrame: The DataFrame with missing values filled.\n    \"\"\"\n    # Identify columns and their data types\n    categorical_cols = df.select_dtypes(include=['object']).columns.tolist()\n    numeric_cols = df.select_dtypes(include=['int64', 'float64']).columns.tolist()\n    \n    # Fill missing values based on column type\n    for col in categorical_cols:\n        if df[col].isnull().any():\n            mode_value = df[col].mode()[0]\n            df[col].fillna(mode_value, inplace=True)\n    \n    for col in numeric_cols:\n        if df[col].isnull().any():\n            mean_value = df[col].mean()\n            df[col].fillna(mean_value, inplace=True)\n    \n    return df",
      "metadata": {
        "trusted": true
      },
      "outputs": [],
      "execution_count": 13
    },
    {
      "cell_type": "code",
      "source": "fill_missing_values(df)",
      "metadata": {
        "trusted": true
      },
      "outputs": [
        {
          "name": "stderr",
          "text": "<ipython-input-13-34da5d66b273>:27: FutureWarning: A value is trying to be set on a copy of a DataFrame or Series through chained assignment using an inplace method.\nThe behavior will change in pandas 3.0. This inplace method will never work because the intermediate object on which we are setting values always behaves as a copy.\n\nFor example, when doing 'df[col].method(value, inplace=True)', try using 'df.method({col: value}, inplace=True)' or df[col] = df[col].method(value) instead, to perform the operation inplace on the original object.\n\n\n  df[col].fillna(mean_value, inplace=True)\n",
          "output_type": "stream"
        },
        {
          "execution_count": 14,
          "output_type": "execute_result",
          "data": {
            "text/plain": "     Unnamed: 0 Manufacturer  Category     Screen  GPU  OS  CPU_core  \\\n0             0         Acer         4  IPS Panel    2   1         5   \n1             1         Dell         3    Full HD    1   1         3   \n2             2         Dell         3    Full HD    1   1         7   \n3             3         Dell         4  IPS Panel    2   1         5   \n4             4           HP         4    Full HD    2   1         7   \n..          ...          ...       ...        ...  ...  ..       ...   \n233         233       Lenovo         4  IPS Panel    2   1         7   \n234         234      Toshiba         3    Full HD    2   1         5   \n235         235       Lenovo         4  IPS Panel    2   1         5   \n236         236       Lenovo         3    Full HD    3   1         5   \n237         237      Toshiba         3    Full HD    2   1         5   \n\n     Screen_Size_cm  CPU_frequency  RAM_GB  Storage_GB_SSD  Weight_kg  Price  \n0            35.560            1.6       8             256       1.60    978  \n1            39.624            2.0       4             256       2.20    634  \n2            39.624            2.7       8             256       2.20    946  \n3            33.782            1.6       8             128       1.22   1244  \n4            39.624            1.8       8             256       1.91    837  \n..              ...            ...     ...             ...        ...    ...  \n233          35.560            2.6       8             256       1.70   1891  \n234          33.782            2.4       8             256       1.20   1950  \n235          30.480            2.6       8             256       1.36   2236  \n236          39.624            2.5       6             256       2.40    883  \n237          35.560            2.3       8             256       1.95   1499  \n\n[238 rows x 13 columns]",
            "text/html": "<div>\n<style scoped>\n    .dataframe tbody tr th:only-of-type {\n        vertical-align: middle;\n    }\n\n    .dataframe tbody tr th {\n        vertical-align: top;\n    }\n\n    .dataframe thead th {\n        text-align: right;\n    }\n</style>\n<table border=\"1\" class=\"dataframe\">\n  <thead>\n    <tr style=\"text-align: right;\">\n      <th></th>\n      <th>Unnamed: 0</th>\n      <th>Manufacturer</th>\n      <th>Category</th>\n      <th>Screen</th>\n      <th>GPU</th>\n      <th>OS</th>\n      <th>CPU_core</th>\n      <th>Screen_Size_cm</th>\n      <th>CPU_frequency</th>\n      <th>RAM_GB</th>\n      <th>Storage_GB_SSD</th>\n      <th>Weight_kg</th>\n      <th>Price</th>\n    </tr>\n  </thead>\n  <tbody>\n    <tr>\n      <th>0</th>\n      <td>0</td>\n      <td>Acer</td>\n      <td>4</td>\n      <td>IPS Panel</td>\n      <td>2</td>\n      <td>1</td>\n      <td>5</td>\n      <td>35.560</td>\n      <td>1.6</td>\n      <td>8</td>\n      <td>256</td>\n      <td>1.60</td>\n      <td>978</td>\n    </tr>\n    <tr>\n      <th>1</th>\n      <td>1</td>\n      <td>Dell</td>\n      <td>3</td>\n      <td>Full HD</td>\n      <td>1</td>\n      <td>1</td>\n      <td>3</td>\n      <td>39.624</td>\n      <td>2.0</td>\n      <td>4</td>\n      <td>256</td>\n      <td>2.20</td>\n      <td>634</td>\n    </tr>\n    <tr>\n      <th>2</th>\n      <td>2</td>\n      <td>Dell</td>\n      <td>3</td>\n      <td>Full HD</td>\n      <td>1</td>\n      <td>1</td>\n      <td>7</td>\n      <td>39.624</td>\n      <td>2.7</td>\n      <td>8</td>\n      <td>256</td>\n      <td>2.20</td>\n      <td>946</td>\n    </tr>\n    <tr>\n      <th>3</th>\n      <td>3</td>\n      <td>Dell</td>\n      <td>4</td>\n      <td>IPS Panel</td>\n      <td>2</td>\n      <td>1</td>\n      <td>5</td>\n      <td>33.782</td>\n      <td>1.6</td>\n      <td>8</td>\n      <td>128</td>\n      <td>1.22</td>\n      <td>1244</td>\n    </tr>\n    <tr>\n      <th>4</th>\n      <td>4</td>\n      <td>HP</td>\n      <td>4</td>\n      <td>Full HD</td>\n      <td>2</td>\n      <td>1</td>\n      <td>7</td>\n      <td>39.624</td>\n      <td>1.8</td>\n      <td>8</td>\n      <td>256</td>\n      <td>1.91</td>\n      <td>837</td>\n    </tr>\n    <tr>\n      <th>...</th>\n      <td>...</td>\n      <td>...</td>\n      <td>...</td>\n      <td>...</td>\n      <td>...</td>\n      <td>...</td>\n      <td>...</td>\n      <td>...</td>\n      <td>...</td>\n      <td>...</td>\n      <td>...</td>\n      <td>...</td>\n      <td>...</td>\n    </tr>\n    <tr>\n      <th>233</th>\n      <td>233</td>\n      <td>Lenovo</td>\n      <td>4</td>\n      <td>IPS Panel</td>\n      <td>2</td>\n      <td>1</td>\n      <td>7</td>\n      <td>35.560</td>\n      <td>2.6</td>\n      <td>8</td>\n      <td>256</td>\n      <td>1.70</td>\n      <td>1891</td>\n    </tr>\n    <tr>\n      <th>234</th>\n      <td>234</td>\n      <td>Toshiba</td>\n      <td>3</td>\n      <td>Full HD</td>\n      <td>2</td>\n      <td>1</td>\n      <td>5</td>\n      <td>33.782</td>\n      <td>2.4</td>\n      <td>8</td>\n      <td>256</td>\n      <td>1.20</td>\n      <td>1950</td>\n    </tr>\n    <tr>\n      <th>235</th>\n      <td>235</td>\n      <td>Lenovo</td>\n      <td>4</td>\n      <td>IPS Panel</td>\n      <td>2</td>\n      <td>1</td>\n      <td>5</td>\n      <td>30.480</td>\n      <td>2.6</td>\n      <td>8</td>\n      <td>256</td>\n      <td>1.36</td>\n      <td>2236</td>\n    </tr>\n    <tr>\n      <th>236</th>\n      <td>236</td>\n      <td>Lenovo</td>\n      <td>3</td>\n      <td>Full HD</td>\n      <td>3</td>\n      <td>1</td>\n      <td>5</td>\n      <td>39.624</td>\n      <td>2.5</td>\n      <td>6</td>\n      <td>256</td>\n      <td>2.40</td>\n      <td>883</td>\n    </tr>\n    <tr>\n      <th>237</th>\n      <td>237</td>\n      <td>Toshiba</td>\n      <td>3</td>\n      <td>Full HD</td>\n      <td>2</td>\n      <td>1</td>\n      <td>5</td>\n      <td>35.560</td>\n      <td>2.3</td>\n      <td>8</td>\n      <td>256</td>\n      <td>1.95</td>\n      <td>1499</td>\n    </tr>\n  </tbody>\n</table>\n<p>238 rows × 13 columns</p>\n</div>"
          },
          "metadata": {}
        }
      ],
      "execution_count": 14
    },
    {
      "cell_type": "code",
      "source": "def convert_columns_to_float(df, column1, column2):\n    \"\"\"\n    Converts specified columns in a DataFrame to float data type.\n    \n    Args:\n    df (pandas.DataFrame): The input DataFrame.\n    column1 (str): The name of the first column to be converted to float.\n    column2 (str): The name of the second column to be converted to float.\n    \n    Returns:\n    pandas.DataFrame: The DataFrame with updated column data types.\n    \"\"\"\n    # Check if columns exist in the DataFrame\n    if column1 not in df.columns or column2 not in df.columns:\n        raise ValueError(f\"One or both of '{column1}' and '{column2}' are not columns in the DataFrame.\")\n    \n    # Convert specified columns to float\n    df[column1] = df[column1].astype(float)\n    df[column2] = df[column2].astype(float)\n    \n    return df\n    \nupdated_df = convert_columns_to_float(df, 'Screen_Size_cm', 'Weight_kg')\nprint(updated_df)",
      "metadata": {
        "trusted": true
      },
      "outputs": [
        {
          "name": "stdout",
          "text": "     Unnamed: 0 Manufacturer  Category     Screen  GPU  OS  CPU_core  \\\n0             0         Acer         4  IPS Panel    2   1         5   \n1             1         Dell         3    Full HD    1   1         3   \n2             2         Dell         3    Full HD    1   1         7   \n3             3         Dell         4  IPS Panel    2   1         5   \n4             4           HP         4    Full HD    2   1         7   \n..          ...          ...       ...        ...  ...  ..       ...   \n233         233       Lenovo         4  IPS Panel    2   1         7   \n234         234      Toshiba         3    Full HD    2   1         5   \n235         235       Lenovo         4  IPS Panel    2   1         5   \n236         236       Lenovo         3    Full HD    3   1         5   \n237         237      Toshiba         3    Full HD    2   1         5   \n\n     Screen_Size_cm  CPU_frequency  RAM_GB  Storage_GB_SSD  Weight_kg  Price  \n0            35.560            1.6       8             256       1.60    978  \n1            39.624            2.0       4             256       2.20    634  \n2            39.624            2.7       8             256       2.20    946  \n3            33.782            1.6       8             128       1.22   1244  \n4            39.624            1.8       8             256       1.91    837  \n..              ...            ...     ...             ...        ...    ...  \n233          35.560            2.6       8             256       1.70   1891  \n234          33.782            2.4       8             256       1.20   1950  \n235          30.480            2.6       8             256       1.36   2236  \n236          39.624            2.5       6             256       2.40    883  \n237          35.560            2.3       8             256       1.95   1499  \n\n[238 rows x 13 columns]\n",
          "output_type": "stream"
        }
      ],
      "execution_count": 15
    },
    {
      "cell_type": "code",
      "source": "def convert_units(df):\n    \"\"\"\n    Converts 'Screen_Size_cm' to 'Screen_Size_inch' and 'Weight_kg' to 'Weight_pounds' in a DataFrame.\n    \n    Args:\n    df (pandas.DataFrame): The input DataFrame.\n    \n    Returns:\n    pandas.DataFrame: The DataFrame with converted units and renamed columns.\n    \"\"\"\n    # Conversion factors\n    CM_TO_INCH = 0.393701\n    KG_TO_POUND = 2.20462\n    \n    # Perform unit conversions\n    df['Screen_Size_inch'] = df['Screen_Size_cm'].apply(lambda x: x * CM_TO_INCH)\n    df['Weight_pounds'] = df['Weight_kg'].apply(lambda x: x * KG_TO_POUND)\n    \n    # Remove the old columns\n    df.drop(['Screen_Size_cm', 'Weight_kg'], axis=1, inplace=True)\n    \n    return df",
      "metadata": {
        "trusted": true
      },
      "outputs": [],
      "execution_count": 16
    },
    {
      "cell_type": "code",
      "source": "convert_units(df)",
      "metadata": {
        "trusted": true
      },
      "outputs": [
        {
          "execution_count": 17,
          "output_type": "execute_result",
          "data": {
            "text/plain": "     Unnamed: 0 Manufacturer  Category     Screen  GPU  OS  CPU_core  \\\n0             0         Acer         4  IPS Panel    2   1         5   \n1             1         Dell         3    Full HD    1   1         3   \n2             2         Dell         3    Full HD    1   1         7   \n3             3         Dell         4  IPS Panel    2   1         5   \n4             4           HP         4    Full HD    2   1         7   \n..          ...          ...       ...        ...  ...  ..       ...   \n233         233       Lenovo         4  IPS Panel    2   1         7   \n234         234      Toshiba         3    Full HD    2   1         5   \n235         235       Lenovo         4  IPS Panel    2   1         5   \n236         236       Lenovo         3    Full HD    3   1         5   \n237         237      Toshiba         3    Full HD    2   1         5   \n\n     CPU_frequency  RAM_GB  Storage_GB_SSD  Price  Screen_Size_inch  \\\n0              1.6       8             256    978         14.000008   \n1              2.0       4             256    634         15.600008   \n2              2.7       8             256    946         15.600008   \n3              1.6       8             128   1244         13.300007   \n4              1.8       8             256    837         15.600008   \n..             ...     ...             ...    ...               ...   \n233            2.6       8             256   1891         14.000008   \n234            2.4       8             256   1950         13.300007   \n235            2.6       8             256   2236         12.000006   \n236            2.5       6             256    883         15.600008   \n237            2.3       8             256   1499         14.000008   \n\n     Weight_pounds  \n0         3.527392  \n1         4.850164  \n2         4.850164  \n3         2.689636  \n4         4.210824  \n..             ...  \n233       3.747854  \n234       2.645544  \n235       2.998283  \n236       5.291088  \n237       4.299009  \n\n[238 rows x 13 columns]",
            "text/html": "<div>\n<style scoped>\n    .dataframe tbody tr th:only-of-type {\n        vertical-align: middle;\n    }\n\n    .dataframe tbody tr th {\n        vertical-align: top;\n    }\n\n    .dataframe thead th {\n        text-align: right;\n    }\n</style>\n<table border=\"1\" class=\"dataframe\">\n  <thead>\n    <tr style=\"text-align: right;\">\n      <th></th>\n      <th>Unnamed: 0</th>\n      <th>Manufacturer</th>\n      <th>Category</th>\n      <th>Screen</th>\n      <th>GPU</th>\n      <th>OS</th>\n      <th>CPU_core</th>\n      <th>CPU_frequency</th>\n      <th>RAM_GB</th>\n      <th>Storage_GB_SSD</th>\n      <th>Price</th>\n      <th>Screen_Size_inch</th>\n      <th>Weight_pounds</th>\n    </tr>\n  </thead>\n  <tbody>\n    <tr>\n      <th>0</th>\n      <td>0</td>\n      <td>Acer</td>\n      <td>4</td>\n      <td>IPS Panel</td>\n      <td>2</td>\n      <td>1</td>\n      <td>5</td>\n      <td>1.6</td>\n      <td>8</td>\n      <td>256</td>\n      <td>978</td>\n      <td>14.000008</td>\n      <td>3.527392</td>\n    </tr>\n    <tr>\n      <th>1</th>\n      <td>1</td>\n      <td>Dell</td>\n      <td>3</td>\n      <td>Full HD</td>\n      <td>1</td>\n      <td>1</td>\n      <td>3</td>\n      <td>2.0</td>\n      <td>4</td>\n      <td>256</td>\n      <td>634</td>\n      <td>15.600008</td>\n      <td>4.850164</td>\n    </tr>\n    <tr>\n      <th>2</th>\n      <td>2</td>\n      <td>Dell</td>\n      <td>3</td>\n      <td>Full HD</td>\n      <td>1</td>\n      <td>1</td>\n      <td>7</td>\n      <td>2.7</td>\n      <td>8</td>\n      <td>256</td>\n      <td>946</td>\n      <td>15.600008</td>\n      <td>4.850164</td>\n    </tr>\n    <tr>\n      <th>3</th>\n      <td>3</td>\n      <td>Dell</td>\n      <td>4</td>\n      <td>IPS Panel</td>\n      <td>2</td>\n      <td>1</td>\n      <td>5</td>\n      <td>1.6</td>\n      <td>8</td>\n      <td>128</td>\n      <td>1244</td>\n      <td>13.300007</td>\n      <td>2.689636</td>\n    </tr>\n    <tr>\n      <th>4</th>\n      <td>4</td>\n      <td>HP</td>\n      <td>4</td>\n      <td>Full HD</td>\n      <td>2</td>\n      <td>1</td>\n      <td>7</td>\n      <td>1.8</td>\n      <td>8</td>\n      <td>256</td>\n      <td>837</td>\n      <td>15.600008</td>\n      <td>4.210824</td>\n    </tr>\n    <tr>\n      <th>...</th>\n      <td>...</td>\n      <td>...</td>\n      <td>...</td>\n      <td>...</td>\n      <td>...</td>\n      <td>...</td>\n      <td>...</td>\n      <td>...</td>\n      <td>...</td>\n      <td>...</td>\n      <td>...</td>\n      <td>...</td>\n      <td>...</td>\n    </tr>\n    <tr>\n      <th>233</th>\n      <td>233</td>\n      <td>Lenovo</td>\n      <td>4</td>\n      <td>IPS Panel</td>\n      <td>2</td>\n      <td>1</td>\n      <td>7</td>\n      <td>2.6</td>\n      <td>8</td>\n      <td>256</td>\n      <td>1891</td>\n      <td>14.000008</td>\n      <td>3.747854</td>\n    </tr>\n    <tr>\n      <th>234</th>\n      <td>234</td>\n      <td>Toshiba</td>\n      <td>3</td>\n      <td>Full HD</td>\n      <td>2</td>\n      <td>1</td>\n      <td>5</td>\n      <td>2.4</td>\n      <td>8</td>\n      <td>256</td>\n      <td>1950</td>\n      <td>13.300007</td>\n      <td>2.645544</td>\n    </tr>\n    <tr>\n      <th>235</th>\n      <td>235</td>\n      <td>Lenovo</td>\n      <td>4</td>\n      <td>IPS Panel</td>\n      <td>2</td>\n      <td>1</td>\n      <td>5</td>\n      <td>2.6</td>\n      <td>8</td>\n      <td>256</td>\n      <td>2236</td>\n      <td>12.000006</td>\n      <td>2.998283</td>\n    </tr>\n    <tr>\n      <th>236</th>\n      <td>236</td>\n      <td>Lenovo</td>\n      <td>3</td>\n      <td>Full HD</td>\n      <td>3</td>\n      <td>1</td>\n      <td>5</td>\n      <td>2.5</td>\n      <td>6</td>\n      <td>256</td>\n      <td>883</td>\n      <td>15.600008</td>\n      <td>5.291088</td>\n    </tr>\n    <tr>\n      <th>237</th>\n      <td>237</td>\n      <td>Toshiba</td>\n      <td>3</td>\n      <td>Full HD</td>\n      <td>2</td>\n      <td>1</td>\n      <td>5</td>\n      <td>2.3</td>\n      <td>8</td>\n      <td>256</td>\n      <td>1499</td>\n      <td>14.000008</td>\n      <td>4.299009</td>\n    </tr>\n  </tbody>\n</table>\n<p>238 rows × 13 columns</p>\n</div>"
          },
          "metadata": {}
        }
      ],
      "execution_count": 17
    },
    {
      "cell_type": "code",
      "source": "import numpy as np\n\ndef normalize_cpu_frequency(df):\n    \"\"\"\n    Normalizes the 'CPU_frequency' column of a DataFrame.\n    \n    Normalizes the values in the 'CPU_frequency' column to a range between 0 and 1, using the maximum value in the column.\n    \n    Args:\n    df (pandas.DataFrame): The input DataFrame containing 'CPU_frequency' column.\n    \n    Returns:\n    pandas.DataFrame: The DataFrame with normalized 'CPU_frequency' column.\n    \"\"\"\n    # Assuming all CPU frequencies are positive\n    max_freq = df['CPU_frequency'].max()\n    \n    if max_freq == 0:\n        raise ValueError(\"Maximum CPU frequency value cannot be zero for normalization.\")\n    \n    # Normalize the 'CPU_frequency' column\n    df['CPU_frequency'] = df['CPU_frequency'].apply(lambda x: (x - 0) / max_freq)\n    \n    return df",
      "metadata": {
        "trusted": true
      },
      "outputs": [],
      "execution_count": 18
    },
    {
      "cell_type": "code",
      "source": "normalized_df = normalize_cpu_frequency(df)\nprint(normalized_df)",
      "metadata": {
        "trusted": true
      },
      "outputs": [
        {
          "name": "stdout",
          "text": "     Unnamed: 0 Manufacturer  Category     Screen  GPU  OS  CPU_core  \\\n0             0         Acer         4  IPS Panel    2   1         5   \n1             1         Dell         3    Full HD    1   1         3   \n2             2         Dell         3    Full HD    1   1         7   \n3             3         Dell         4  IPS Panel    2   1         5   \n4             4           HP         4    Full HD    2   1         7   \n..          ...          ...       ...        ...  ...  ..       ...   \n233         233       Lenovo         4  IPS Panel    2   1         7   \n234         234      Toshiba         3    Full HD    2   1         5   \n235         235       Lenovo         4  IPS Panel    2   1         5   \n236         236       Lenovo         3    Full HD    3   1         5   \n237         237      Toshiba         3    Full HD    2   1         5   \n\n     CPU_frequency  RAM_GB  Storage_GB_SSD  Price  Screen_Size_inch  \\\n0         0.551724       8             256    978         14.000008   \n1         0.689655       4             256    634         15.600008   \n2         0.931034       8             256    946         15.600008   \n3         0.551724       8             128   1244         13.300007   \n4         0.620690       8             256    837         15.600008   \n..             ...     ...             ...    ...               ...   \n233       0.896552       8             256   1891         14.000008   \n234       0.827586       8             256   1950         13.300007   \n235       0.896552       8             256   2236         12.000006   \n236       0.862069       6             256    883         15.600008   \n237       0.793103       8             256   1499         14.000008   \n\n     Weight_pounds  \n0         3.527392  \n1         4.850164  \n2         4.850164  \n3         2.689636  \n4         4.210824  \n..             ...  \n233       3.747854  \n234       2.645544  \n235       2.998283  \n236       5.291088  \n237       4.299009  \n\n[238 rows x 13 columns]\n",
          "output_type": "stream"
        }
      ],
      "execution_count": 19
    },
    {
      "cell_type": "code",
      "source": "def one_hot_encode(df, attribute):\n    \"\"\"\n    Converts a categorical attribute in a DataFrame into dummy/indicator variables.\n    \n    Appends these variables to the original DataFrame and drops the original attribute column.\n    \n    Args:\n    df (pandas.DataFrame): The input DataFrame.\n    attribute (str): The name of the attribute column to be converted.\n    \n    Returns:\n    pandas.DataFrame: The modified DataFrame with the encoded attribute and appended indicator variables.\n    \"\"\"\n    # Check if the attribute exists in the DataFrame\n    if attribute not in df.columns:\n        raise ValueError(f\"The attribute '{attribute}' does not exist in the DataFrame.\")\n    \n    # Create dummy variables\n    df1 = pd.get_dummies(df[attribute], prefix=attribute)\n    \n    # Append dummy variables to the original DataFrame\n    df = pd.concat([df, df1], axis=1)\n    \n    # Drop the original attribute column\n    df.drop(attribute, axis=1, inplace=True)\n    \n    return df",
      "metadata": {
        "trusted": true
      },
      "outputs": [],
      "execution_count": 25
    },
    {
      "cell_type": "code",
      "source": "# Perform one-hot encoding on 'Screen' attribute\ndf = one_hot_encode(df, 'Screen')\nprint(df)",
      "metadata": {
        "trusted": true
      },
      "outputs": [
        {
          "ename": "<class 'ValueError'>",
          "evalue": "The attribute 'Screen' does not exist in the DataFrame.",
          "traceback": [
            "\u001b[0;31m---------------------------------------------------------------------------\u001b[0m",
            "\u001b[0;31mValueError\u001b[0m                                Traceback (most recent call last)",
            "Cell \u001b[0;32mIn[26], line 2\u001b[0m\n\u001b[1;32m      1\u001b[0m \u001b[38;5;66;03m# Perform one-hot encoding on 'Screen' attribute\u001b[39;00m\n\u001b[0;32m----> 2\u001b[0m df \u001b[38;5;241m=\u001b[39m \u001b[43mone_hot_encode\u001b[49m\u001b[43m(\u001b[49m\u001b[43mdf\u001b[49m\u001b[43m,\u001b[49m\u001b[43m \u001b[49m\u001b[38;5;124;43m'\u001b[39;49m\u001b[38;5;124;43mScreen\u001b[39;49m\u001b[38;5;124;43m'\u001b[39;49m\u001b[43m)\u001b[49m\n\u001b[1;32m      3\u001b[0m \u001b[38;5;28mprint\u001b[39m(df)\n",
            "Cell \u001b[0;32mIn[25], line 16\u001b[0m, in \u001b[0;36mone_hot_encode\u001b[0;34m(df, attribute)\u001b[0m\n\u001b[1;32m     14\u001b[0m \u001b[38;5;66;03m# Check if the attribute exists in the DataFrame\u001b[39;00m\n\u001b[1;32m     15\u001b[0m \u001b[38;5;28;01mif\u001b[39;00m attribute \u001b[38;5;129;01mnot\u001b[39;00m \u001b[38;5;129;01min\u001b[39;00m df\u001b[38;5;241m.\u001b[39mcolumns:\n\u001b[0;32m---> 16\u001b[0m     \u001b[38;5;28;01mraise\u001b[39;00m \u001b[38;5;167;01mValueError\u001b[39;00m(\u001b[38;5;124mf\u001b[39m\u001b[38;5;124m\"\u001b[39m\u001b[38;5;124mThe attribute \u001b[39m\u001b[38;5;124m'\u001b[39m\u001b[38;5;132;01m{\u001b[39;00mattribute\u001b[38;5;132;01m}\u001b[39;00m\u001b[38;5;124m'\u001b[39m\u001b[38;5;124m does not exist in the DataFrame.\u001b[39m\u001b[38;5;124m\"\u001b[39m)\n\u001b[1;32m     18\u001b[0m \u001b[38;5;66;03m# Create dummy variables\u001b[39;00m\n\u001b[1;32m     19\u001b[0m df1 \u001b[38;5;241m=\u001b[39m pd\u001b[38;5;241m.\u001b[39mget_dummies(df[attribute], prefix\u001b[38;5;241m=\u001b[39mattribute)\n",
            "\u001b[0;31mValueError\u001b[0m: The attribute 'Screen' does not exist in the DataFrame."
          ],
          "output_type": "error"
        }
      ],
      "execution_count": 26
    },
    {
      "cell_type": "code",
      "source": "print(df)",
      "metadata": {
        "trusted": true
      },
      "outputs": [
        {
          "name": "stdout",
          "text": "     Unnamed: 0 Manufacturer  Category  GPU  OS  CPU_core  CPU_frequency  \\\n0             0         Acer         4    2   1         5       0.551724   \n1             1         Dell         3    1   1         3       0.689655   \n2             2         Dell         3    1   1         7       0.931034   \n3             3         Dell         4    2   1         5       0.551724   \n4             4           HP         4    2   1         7       0.620690   \n..          ...          ...       ...  ...  ..       ...            ...   \n233         233       Lenovo         4    2   1         7       0.896552   \n234         234      Toshiba         3    2   1         5       0.827586   \n235         235       Lenovo         4    2   1         5       0.896552   \n236         236       Lenovo         3    3   1         5       0.862069   \n237         237      Toshiba         3    2   1         5       0.793103   \n\n     RAM_GB  Storage_GB_SSD  Price  Screen_Size_inch  Weight_pounds  \\\n0         8             256    978         14.000008       3.527392   \n1         4             256    634         15.600008       4.850164   \n2         8             256    946         15.600008       4.850164   \n3         8             128   1244         13.300007       2.689636   \n4         8             256    837         15.600008       4.210824   \n..      ...             ...    ...               ...            ...   \n233       8             256   1891         14.000008       3.747854   \n234       8             256   1950         13.300007       2.645544   \n235       8             256   2236         12.000006       2.998283   \n236       6             256    883         15.600008       5.291088   \n237       8             256   1499         14.000008       4.299009   \n\n     Screen_Full HD  Screen_IPS Panel  \n0             False              True  \n1              True             False  \n2              True             False  \n3             False              True  \n4              True             False  \n..              ...               ...  \n233           False              True  \n234            True             False  \n235           False              True  \n236            True             False  \n237            True             False  \n\n[238 rows x 14 columns]\n",
          "output_type": "stream"
        }
      ],
      "execution_count": 27
    },
    {
      "cell_type": "code",
      "source": "def convert_usd_to_eur(df, price_column='Price'):\n    \"\"\"\n    Converts prices from USD to EUR in the specified column of a DataFrame.\n    \n    The exchange rate used is hardcoded at 0.85 (1 USD = 0.85 EUR).\n    \n    Args:\n    df (pandas.DataFrame): The input DataFrame containing the 'Price' column.\n    price_column (str): The name of the column containing prices in USD.\n    \n    Returns:\n    pandas.DataFrame: The DataFrame with prices converted to EUR.\n    \"\"\"\n    # Hardcoded exchange rate\n    exchange_rate = 0.85\n    \n    # Conversion\n    df[price_column] = df[price_column].apply(lambda x: x * exchange_rate)\n    \n    return df",
      "metadata": {
        "trusted": true
      },
      "outputs": [],
      "execution_count": 28
    },
    {
      "cell_type": "code",
      "source": "# Convert USD prices to EUR\ndf_eur = convert_usd_to_eur(df)\n\nprint(df_eur)",
      "metadata": {
        "trusted": true
      },
      "outputs": [
        {
          "name": "stdout",
          "text": "     Unnamed: 0 Manufacturer  Category  GPU  OS  CPU_core  CPU_frequency  \\\n0             0         Acer         4    2   1         5       0.551724   \n1             1         Dell         3    1   1         3       0.689655   \n2             2         Dell         3    1   1         7       0.931034   \n3             3         Dell         4    2   1         5       0.551724   \n4             4           HP         4    2   1         7       0.620690   \n..          ...          ...       ...  ...  ..       ...            ...   \n233         233       Lenovo         4    2   1         7       0.896552   \n234         234      Toshiba         3    2   1         5       0.827586   \n235         235       Lenovo         4    2   1         5       0.896552   \n236         236       Lenovo         3    3   1         5       0.862069   \n237         237      Toshiba         3    2   1         5       0.793103   \n\n     RAM_GB  Storage_GB_SSD    Price  Screen_Size_inch  Weight_pounds  \\\n0         8             256   831.30         14.000008       3.527392   \n1         4             256   538.90         15.600008       4.850164   \n2         8             256   804.10         15.600008       4.850164   \n3         8             128  1057.40         13.300007       2.689636   \n4         8             256   711.45         15.600008       4.210824   \n..      ...             ...      ...               ...            ...   \n233       8             256  1607.35         14.000008       3.747854   \n234       8             256  1657.50         13.300007       2.645544   \n235       8             256  1900.60         12.000006       2.998283   \n236       6             256   750.55         15.600008       5.291088   \n237       8             256  1274.15         14.000008       4.299009   \n\n     Screen_Full HD  Screen_IPS Panel  \n0             False              True  \n1              True             False  \n2              True             False  \n3             False              True  \n4              True             False  \n..              ...               ...  \n233           False              True  \n234            True             False  \n235           False              True  \n236            True             False  \n237            True             False  \n\n[238 rows x 14 columns]\n",
          "output_type": "stream"
        }
      ],
      "execution_count": 29
    },
    {
      "cell_type": "code",
      "source": "import numpy as np\n\ndef min_max_normalize(df, column_name='CPU_frequency'):\n    \"\"\"\n    Performs min-max normalization on the specified column in a DataFrame.\n    \n    Args:\n    df (pandas.DataFrame): The input DataFrame.\n    column_name (str): The name of the column to normalize.\n    \n    Returns:\n    pandas.DataFrame: The DataFrame with the normalized column.\n    \"\"\"\n    if column_name not in df.columns:\n        raise ValueError(f\"The '{column_name}' column does not exist in the DataFrame.\")\n        \n    # Calculate min and max values\n    min_val = df[column_name].min()\n    max_val = df[column_name].max()\n    \n    if min_val == max_val:\n        raise ValueError(f\"All values in '{column_name}' column are identical; cannot perform normalization.\")\n    \n    # Apply min-max normalization\n    df[column_name] = (df[column_name] - min_val) / (max_val - min_val)\n    \n    return df",
      "metadata": {
        "trusted": true
      },
      "outputs": [],
      "execution_count": 30
    },
    {
      "cell_type": "code",
      "source": "# Normalizing CPU_frequency column\nnormalized_df = min_max_normalize(df)\nprint(normalized_df)",
      "metadata": {
        "trusted": true
      },
      "outputs": [
        {
          "name": "stdout",
          "text": "     Unnamed: 0 Manufacturer  Category  GPU  OS  CPU_core  CPU_frequency  \\\n0             0         Acer         4    2   1         5       0.235294   \n1             1         Dell         3    1   1         3       0.470588   \n2             2         Dell         3    1   1         7       0.882353   \n3             3         Dell         4    2   1         5       0.235294   \n4             4           HP         4    2   1         7       0.352941   \n..          ...          ...       ...  ...  ..       ...            ...   \n233         233       Lenovo         4    2   1         7       0.823529   \n234         234      Toshiba         3    2   1         5       0.705882   \n235         235       Lenovo         4    2   1         5       0.823529   \n236         236       Lenovo         3    3   1         5       0.764706   \n237         237      Toshiba         3    2   1         5       0.647059   \n\n     RAM_GB  Storage_GB_SSD    Price  Screen_Size_inch  Weight_pounds  \\\n0         8             256   831.30         14.000008       3.527392   \n1         4             256   538.90         15.600008       4.850164   \n2         8             256   804.10         15.600008       4.850164   \n3         8             128  1057.40         13.300007       2.689636   \n4         8             256   711.45         15.600008       4.210824   \n..      ...             ...      ...               ...            ...   \n233       8             256  1607.35         14.000008       3.747854   \n234       8             256  1657.50         13.300007       2.645544   \n235       8             256  1900.60         12.000006       2.998283   \n236       6             256   750.55         15.600008       5.291088   \n237       8             256  1274.15         14.000008       4.299009   \n\n     Screen_Full HD  Screen_IPS Panel  \n0             False              True  \n1              True             False  \n2              True             False  \n3             False              True  \n4              True             False  \n..              ...               ...  \n233           False              True  \n234            True             False  \n235           False              True  \n236            True             False  \n237            True             False  \n\n[238 rows x 14 columns]\n",
          "output_type": "stream"
        }
      ],
      "execution_count": 31
    },
    {
      "cell_type": "markdown",
      "source": "### My comments:\n----\n#### Practicing with Gen AI:\nIn this script, we are practicing how generative AI prompts work such that it can generate code according to your needs.\nIn this example we try to make the data cleanning/wrangling and preprocesssing parts quicker and more efficient for a given dataset.\n\nThe AI generated code is written based on specific prompts that were given to it by me, based on the instructions specified in the lab:\n\n**Examples of The prompts that were given to the AI (IBM Granite 3.2 8B(Reasoning)):**\n\n**prompt 1:**\n\n```\nWrite a Python code that can perform the following tasks.\nRead the CSV file, located on a given file path, into a Pandas data frame, assuming that the first rows of the file are the headers for the data.\n```\n\n**prompt 2:** \n```\nWrite a Python code that identifies the columns with missing values in a pandas data frame.\n```\n\n**prompt 3:**\n```\nWrite a Python code to replace the missing values in a pandas data frame, per the following guidelines.\n1. For a categorical attribute \"Screen_Size_cm\", replace the missing values with the most frequent value in the column.\n2. For a continuous value attribute \"Weight_kg\", replace the missing values with the mean value of the entries in the column.\n```\n**prompt 4:**\n```\nWrite a Python code snippet to change the data type of the attributes \"Screen_Size_cm\" and \"Weight_kg\" of a data frame to float.\n```\n\n**prompt 5:**\n```\nwrite a python code that performs min-max normalization on a dataframe that contains a column called CPU_frequency\"\n```\n\n**prompt 6:**\n```\nWrite a Python code to modify the contents under the following attributes of the data frame as required.\n1. Data under 'Screen_Size_cm' is assumed to be in centimeters. Convert this data into inches. Modify the name of the attribute to 'Screen_Size_inch'.\n2. Data under 'Weight_kg' is assumed to be in kilograms. Convert this data into pounds. Modify the name of the attribute to 'Weight_pounds'.\n```\n\n**prompt 7:**\n```\nWrite a Python code to normalize the content under the attribute \"CPU_frequency\" in a data frame df concerning its maximum value. Make changes to the original data, and do not create a new attribute.\n```\n\n**prompt 8:**\n```\nWrite a Python code to perform the following tasks.\n1. Convert a data frame df attribute \"Screen\", into indicator variables, saved as df1, with the naming convention \"Screen_<unique value of the attribute>\".\n2. Append df1 into the original data frame df.\n3. Drop the original attribute from the data frame df.\n```\n\n**prompt 9:**\n```\nwrite a python code that convert the dataframe column named \"Price\" which has prices in US Dollars to Euros\n```\n\n**prompt 10:**\n```\nwrite a python code that performs min-max normalization on a dataframe that contains a column called CPU_frequency\n```\n#### Overall, It does the job well enough for the example or the tasks required for this lab.\n\n----",
      "metadata": {}
    },
    {
      "cell_type": "markdown",
      "source": "## Authors\n",
      "metadata": {}
    },
    {
      "cell_type": "markdown",
      "source": "[Abhishek Gagneja](https://www.linkedin.com/in/abhishek-gagneja-23051987/)\n",
      "metadata": {}
    },
    {
      "cell_type": "markdown",
      "source": "## Change Log\n",
      "metadata": {}
    },
    {
      "cell_type": "markdown",
      "source": "|Date (YYYY-MM-DD)|Version|Changed By|Change Description|\n|-|-|-|-|\n|2023-12-10|0.1|Abhishek Gagneja|Initial Draft created|\n",
      "metadata": {}
    },
    {
      "cell_type": "markdown",
      "source": "Copyright © 2023 IBM Corporation. All rights reserved.\n",
      "metadata": {}
    }
  ]
}